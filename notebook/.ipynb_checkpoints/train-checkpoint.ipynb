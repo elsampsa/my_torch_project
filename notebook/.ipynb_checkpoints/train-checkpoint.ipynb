{
 "cells": [
  {
   "cell_type": "code",
   "execution_count": 8,
   "metadata": {},
   "outputs": [],
   "source": [
    "%reload_ext autoreload\n",
    "%autoreload 2\n",
    "from tqdm.notebook import tqdm\n",
    "import matplotlib as mpl\n",
    "import matplotlib.pyplot as plt\n",
    "import numpy as np\n",
    "import cv2\n",
    "from random import randint\n",
    "import glob, os\n",
    "from pprint import pprint\n",
    "%matplotlib inline\n",
    "mpl.rcParams['figure.figsize'] = [100, 40]\n",
    "params = {'legend.fontsize': 'x-large',\n",
    "          'figure.figsize': (15, 5),\n",
    "         'axes.labelsize': 'x-large',\n",
    "         'axes.titlesize':'x-large',\n",
    "         'xtick.labelsize':'x-large',\n",
    "         'ytick.labelsize':'x-large'}\n",
    "mpl.rcParams.update(params)\n",
    "\n",
    "import torch\n",
    "from torch.utils.data import DataLoader, random_split\n",
    "from my_torch_project.datamodel import CustomDataset\n",
    "from my_torch_project.trainer import trainer1\n",
    "from my_torch_project.model import getModule"
   ]
  },
  {
   "cell_type": "code",
   "execution_count": 9,
   "metadata": {},
   "outputs": [],
   "source": [
    "## local version\n",
    "#checkpoint_dir=\"/home/sampsa/cnn/kaggle/my_torch_project_2/train/checkpoints\"\n",
    "#log_dir=\"/home/sampsa/cnn/kaggle/my_torch_project_2/train/runs\"\n",
    "#data_root=\"/home/sampsa/cnn/kaggle/data/my_torch_project\"\n",
    "\n",
    "## docker version\n",
    "# !ls /mnt\n",
    "# !ls /mnt/data\n",
    "checkpoint_dir=\"/mnt/train/checkpoints\"\n",
    "log_dir=\"/mnt/train/runs\"\n",
    "data_root=\"/mnt/data/\""
   ]
  },
  {
   "cell_type": "code",
   "execution_count": 10,
   "metadata": {},
   "outputs": [
    {
     "name": "stdout",
     "output_type": "stream",
     "text": [
      "cuda\n"
     ]
    }
   ],
   "source": [
    "device = torch.device('cuda' if torch.cuda.is_available() else 'cpu')\n",
    "print(device)"
   ]
  },
  {
   "cell_type": "code",
   "execution_count": 11,
   "metadata": {},
   "outputs": [
    {
     "data": {
      "text/plain": [
       "'\\nnet.load_state_dict(\\n    torch.load(\"somefile.pth\", map_location=device)\\n)\\n'"
      ]
     },
     "execution_count": 11,
     "metadata": {},
     "output_type": "execute_result"
    }
   ],
   "source": [
    "net = getModule()\n",
    "net.to(device=device)\n",
    "\"\"\"\n",
    "net.load_state_dict(\n",
    "    torch.load(\"somefile.pth\", map_location=device)\n",
    ")\n",
    "\"\"\""
   ]
  },
  {
   "cell_type": "code",
   "execution_count": 12,
   "metadata": {},
   "outputs": [],
   "source": [
    "dataset = CustomDataset(\n",
    "    os.path.join(data_root, \"train_images\"),\n",
    "    os.path.join(data_root, \"train.csv\"),\n",
    "    n_classes = 5,\n",
    "    # n_max=500 # debugging\n",
    ")\n",
    "val_percent = 0.05\n",
    "n_val = int(len(dataset) * val_percent)\n",
    "n_train = len(dataset) - n_val\n",
    "    \n",
    "train, val = random_split(dataset, [n_train, n_val])"
   ]
  },
  {
   "cell_type": "code",
   "execution_count": 13,
   "metadata": {},
   "outputs": [],
   "source": [
    "batchsize=5\n",
    "\n",
    "train_loader = DataLoader(train, \n",
    "    batch_size=batchsize, \n",
    "    shuffle=True, \n",
    "    num_workers=8, \n",
    "    pin_memory=True)\n",
    "\n",
    "val_loader = DataLoader(val, \n",
    "    batch_size=batchsize, \n",
    "    shuffle=False,\n",
    "    num_workers=8, \n",
    "    pin_memory=True, \n",
    "    drop_last=True)"
   ]
  },
  {
   "cell_type": "code",
   "execution_count": 14,
   "metadata": {},
   "outputs": [],
   "source": [
    "epochs=5\n",
    "learning_rate=0.0001"
   ]
  },
  {
   "cell_type": "code",
   "execution_count": null,
   "metadata": {},
   "outputs": [
    {
     "name": "stderr",
     "output_type": "stream",
     "text": [
      "trainer - INFO - Starting training:\n",
      "        Epochs:          5\n",
      "        Batch size:      5\n",
      "        Learning rate:   0.0001\n",
      "        Training size:   20328\n",
      "        Validation size: 1069\n",
      "        Checkpoints:     True\n",
      "        Device:          cuda\n",
      "    \n",
      "Epoch 1/5:   0%|          | 5/20328 [00:00<36:24,  9.30imgs/s, loss (batch)=1.96]trainer - INFO - please wait for validation\n",
      "\n",
      "Validation round:   0%|          | 0/1069 [00:07<?, ?batch/s]\u001b[A\n",
      "trainer - INFO - Validation CE: 1.7693166324644027, Accuracy : 0.10328638497652583, LR: 0.0001\n",
      "Epoch 1/5:   2%|▏         | 360/20328 [00:17<16:24, 20.28imgs/s, loss (batch)=1.12] \n",
      "trainer - INFO - Saved interrupt\n"
     ]
    }
   ],
   "source": [
    "trainer1(\n",
    "    net=net,\n",
    "    device=device,\n",
    "    epochs=epochs,\n",
    "    batch_size=batchsize,\n",
    "    lr=learning_rate,\n",
    "    save_cp=True,\n",
    "    cp_dir=checkpoint_dir,\n",
    "    log_dir=log_dir,\n",
    "    train_loader = train_loader,\n",
    "    val_loader = val_loader,\n",
    "    show_val_progress = False\n",
    ")"
   ]
  },
  {
   "cell_type": "code",
   "execution_count": null,
   "metadata": {},
   "outputs": [],
   "source": []
  }
 ],
 "metadata": {
  "kernelspec": {
   "display_name": "Python 3",
   "language": "python",
   "name": "python3"
  },
  "language_info": {
   "codemirror_mode": {
    "name": "ipython",
    "version": 3
   },
   "file_extension": ".py",
   "mimetype": "text/x-python",
   "name": "python",
   "nbconvert_exporter": "python",
   "pygments_lexer": "ipython3",
   "version": "3.6.9"
  }
 },
 "nbformat": 4,
 "nbformat_minor": 4
}
